{
 "cells": [
  {
   "cell_type": "code",
   "execution_count": 97,
   "metadata": {},
   "outputs": [
    {
     "name": "stdout",
     "output_type": "stream",
     "text": [
      "[{'info': {'测试用例编号': '1.0', '测试用例名': '登录验证'}, '步骤': [{'步骤序号': '1', '步骤名': '1.打开登录页', '关键字': 'goto', '元素标识': 'xpath', '元素路径': 'xpath', '参数': 'xpath'}, {'步骤序号': '2', '步骤名': '2.输入账号名', '关键字': 'input', '元素标识': 'xpath', '元素路径': 'xpath', '参数': 'xpath'}, {'步骤序号': '3', '步骤名': '3.输入密码', '关键字': ' input', '元素标识': 'xpath', '元素路径': 'xpath', '参数': 'xpath'}, {'步骤序号': '4', '步骤名': '4.点击登录', '关键字': ' click', '元素标识': 'xpath', '元素路径': 'xpath', '参数': 'xpath'}, {'步骤序号': '5', '步骤名': '5.获取登录成功标志', '关键字': ' alart', '元素标识': 'xpath', '元素路径': 'xpath', '参数': 'xpath'}]}, {'info': {'测试用例编号': '2.0', '测试用例名': '登录验证'}, '步骤': [{'步骤序号': '1', '步骤名': '1.打开登录页', '关键字': 'goto', '元素标识': 'xpath', '元素路径': 'xpath', '参数': 'xpath'}, {'步骤序号': '2', '步骤名': '2.输入账号名', '关键字': 'input', '元素标识': 'xpath', '元素路径': 'xpath', '参数': 'xpath'}, {'步骤序号': '3', '步骤名': '3.输入密码', '关键字': ' input', '元素标识': 'xpath', '元素路径': 'xpath', '参数': 'xpath'}]}]\n"
     ]
    },
    {
     "ename": "PanicException",
     "evalue": "byte index 25 is not a char boundary; it is inside '编' (bytes 23..26) of `{'info': {'测试用例编号': '1.0', '测试用例名': '登录验证'}, '步骤': [{'步骤序号': '1', '步骤名': '1.打开登录页', '关键字': 'goto', '元素标识': 'xpath', '元素路径': 'xpath', '参数': 'xpath'}, {'步骤序号': '2', '`[...]",
     "output_type": "error",
     "traceback": [
      "\u001b[1;31m---------------------------------------------------------------------------\u001b[0m",
      "\u001b[1;31mPanicException\u001b[0m                            Traceback (most recent call last)",
      "    \u001b[1;31m[... skipping hidden 1 frame]\u001b[0m\n",
      "File \u001b[1;32md:\\A\\miniconda\\envs\\tesing01\\lib\\site-packages\\IPython\\core\\interactiveshell.py:2116\u001b[0m, in \u001b[0;36mInteractiveShell.showtraceback\u001b[1;34m(self, exc_tuple, filename, tb_offset, exception_only, running_compiled_code)\u001b[0m\n\u001b[0;32m   2113\u001b[0m     traceback\u001b[39m.\u001b[39mprint_exc()\n\u001b[0;32m   2114\u001b[0m     \u001b[39mreturn\u001b[39;00m \u001b[39mNone\u001b[39;00m\n\u001b[1;32m-> 2116\u001b[0m \u001b[39mself\u001b[39;49m\u001b[39m.\u001b[39;49m_showtraceback(etype, value, stb)\n\u001b[0;32m   2117\u001b[0m \u001b[39mif\u001b[39;00m \u001b[39mself\u001b[39m\u001b[39m.\u001b[39mcall_pdb:\n\u001b[0;32m   2118\u001b[0m     \u001b[39m# drop into debugger\u001b[39;00m\n\u001b[0;32m   2119\u001b[0m     \u001b[39mself\u001b[39m\u001b[39m.\u001b[39mdebugger(force\u001b[39m=\u001b[39m\u001b[39mTrue\u001b[39;00m)\n",
      "File \u001b[1;32md:\\A\\miniconda\\envs\\tesing01\\lib\\site-packages\\ipykernel\\zmqshell.py:538\u001b[0m, in \u001b[0;36mZMQInteractiveShell._showtraceback\u001b[1;34m(self, etype, evalue, stb)\u001b[0m\n\u001b[0;32m    532\u001b[0m sys\u001b[39m.\u001b[39mstdout\u001b[39m.\u001b[39mflush()\n\u001b[0;32m    533\u001b[0m sys\u001b[39m.\u001b[39mstderr\u001b[39m.\u001b[39mflush()\n\u001b[0;32m    535\u001b[0m exc_content \u001b[39m=\u001b[39m {\n\u001b[0;32m    536\u001b[0m     \u001b[39m\"\u001b[39m\u001b[39mtraceback\u001b[39m\u001b[39m\"\u001b[39m: stb,\n\u001b[0;32m    537\u001b[0m     \u001b[39m\"\u001b[39m\u001b[39mename\u001b[39m\u001b[39m\"\u001b[39m: \u001b[39mstr\u001b[39m(etype\u001b[39m.\u001b[39m\u001b[39m__name__\u001b[39m),\n\u001b[1;32m--> 538\u001b[0m     \u001b[39m\"\u001b[39m\u001b[39mevalue\u001b[39m\u001b[39m\"\u001b[39m: \u001b[39mstr\u001b[39;49m(evalue),\n\u001b[0;32m    539\u001b[0m }\n\u001b[0;32m    541\u001b[0m dh \u001b[39m=\u001b[39m \u001b[39mself\u001b[39m\u001b[39m.\u001b[39mdisplayhook\n\u001b[0;32m    542\u001b[0m \u001b[39m# Send exception info over pub socket for other clients than the caller\u001b[39;00m\n\u001b[0;32m    543\u001b[0m \u001b[39m# to pick up\u001b[39;00m\n",
      "\u001b[1;31mPanicException\u001b[0m: byte index 25 is not a char boundary; it is inside '编' (bytes 23..26) of `{'info': {'测试用例编号': '1.0', '测试用例名': '登录验证'}, '步骤': [{'步骤序号': '1', '步骤名': '1.打开登录页', '关键字': 'goto', '元素标识': 'xpath', '元素路径': 'xpath', '参数': 'xpath'}, {'步骤序号': '2', '`[...]"
     ]
    }
   ],
   "source": [
    "import pandas as pd\n",
    "import numpy as np\n",
    "from models import BaseTestCase,BaseTestSuite\n",
    "\n",
    "class parse:\n",
    "    def __init__(self, filetype='excel', file='./TestCase'):\n",
    "        self._filetype = filetype\n",
    "        self._file = file\n",
    "\n",
    "    def getCaseTest(self):\n",
    "        pass\n",
    "\n",
    "\n",
    "    def parseSheet(self,file):\n",
    "        if file is None:\n",
    "            file = self._file\n",
    "        sheet = pd.read_excel(file)\n",
    "        stop = 0\n",
    "        caseList = []\n",
    "        步骤集 = []\n",
    "        length = len(sheet)\n",
    "        for row in sheet.iterrows():\n",
    "            if np.isnan(row[1]['测试用例编号']) == False and stop == 0:\n",
    "                if row[0] != 0:\n",
    "                    caseList.append(self.copyCase(测试用例编号, 测试用例名,步骤集))\n",
    "\n",
    "                    步骤集 = []\n",
    "                测试用例编号 = str(row[1]['测试用例编号'])\n",
    "                测试用例名 = row[1]['测试用例名']\n",
    "                步骤集.append(self.copyrow(row[1]))\n",
    "                stop = 1\n",
    "            else:\n",
    "                stop = 0\n",
    "                步骤集.append(self.copyrow(row[1]))\n",
    "                if row[0]+1 == length:\n",
    "                    caseList.append(self.copyCase(测试用例编号, 测试用例名, 步骤集))\n",
    "        return caseList\n",
    "\n",
    "    def copyrow(self,row):\n",
    "        步骤 = {'步骤序号': str(row['步骤序号']), '步骤名': row['步骤名'], '关键字': row['关键字'],\n",
    "                '元素标识': row['元素标识'], '元素路径': row['元素路径'], '参数': row['参数']}\n",
    "        return 步骤\n",
    "\n",
    "    def copyCase(self,测试用例编号, 测试用例名, 步骤集):\n",
    "        newCase = {'info':{'测试用例编号': 测试用例编号, '测试用例名': 测试用例名}, '步骤': 步骤集}\n",
    "        return newCase\n",
    "\n",
    "parser = parse(file = \"c:/Users/xzl/Downloads/工作簿1.xlsx\")\n",
    "a = parser.parseSheet(None)\n",
    "print(a)\n",
    "b={'info':{'测试用例编号':'1','测试用例名':'hello'},'step':[{'步骤序号': '1', '步骤名': '1.打开登录页', '关键字': 'goto', '元素标识': 'xpath', '元素路径': 'xpath', '参数': 'xpath'}]}\n",
    "suit = BaseTestCase(**a[0])\n",
    "print(suit)"
   ]
  },
  {
   "cell_type": "code",
   "execution_count": 98,
   "metadata": {},
   "outputs": [],
   "source": [
    "from models import *"
   ]
  },
  {
   "cell_type": "code",
   "execution_count": 100,
   "metadata": {},
   "outputs": [],
   "source": [
    "\n",
    "testinfo = {'测试用例编号':'1','测试用例名':'11'}\n",
    "ta = TestInfo(**testinfo)"
   ]
  },
  {
   "cell_type": "code",
   "execution_count": 101,
   "metadata": {},
   "outputs": [
    {
     "data": {
      "text/plain": [
       "TestInfo(测试用例编号='1', 测试用例名='11')"
      ]
     },
     "execution_count": 101,
     "metadata": {},
     "output_type": "execute_result"
    }
   ],
   "source": [
    "teststep = {'步骤序号':''}"
   ]
  },
  {
   "cell_type": "code",
   "execution_count": null,
   "metadata": {},
   "outputs": [],
   "source": []
  },
  {
   "cell_type": "code",
   "execution_count": null,
   "metadata": {},
   "outputs": [],
   "source": []
  },
  {
   "cell_type": "code",
   "execution_count": 43,
   "metadata": {},
   "outputs": [],
   "source": [
    "from pydantic import BaseModel\n",
    "from typing import List"
   ]
  },
  {
   "cell_type": "code",
   "execution_count": 91,
   "metadata": {},
   "outputs": [],
   "source": [
    "class TestInfo(BaseModel):\n",
    "    name: str\n",
    "    age : int\n",
    "\n",
    "class TestCase(BaseModel):\n",
    "    info:TestInfo\n",
    "    steps:List[str]\n",
    "\n",
    "a = TestCase(**{'info':{'name':'yu','age':11},'steps':['测试名','测试用例']})"
   ]
  },
  {
   "cell_type": "code",
   "execution_count": 92,
   "metadata": {},
   "outputs": [
    {
     "data": {
      "text/plain": [
       "TestCase(info=TestInfo(name='yu', age=11), steps=['测试名', '测试用例'])"
      ]
     },
     "execution_count": 92,
     "metadata": {},
     "output_type": "execute_result"
    }
   ],
   "source": [
    "a"
   ]
  },
  {
   "cell_type": "code",
   "execution_count": null,
   "metadata": {},
   "outputs": [],
   "source": []
  }
 ],
 "metadata": {
  "kernelspec": {
   "display_name": "tesing01",
   "language": "python",
   "name": "python3"
  },
  "language_info": {
   "codemirror_mode": {
    "name": "ipython",
    "version": 3
   },
   "file_extension": ".py",
   "mimetype": "text/x-python",
   "name": "python",
   "nbconvert_exporter": "python",
   "pygments_lexer": "ipython3",
   "version": "3.10.0"
  },
  "orig_nbformat": 4
 },
 "nbformat": 4,
 "nbformat_minor": 2
}
